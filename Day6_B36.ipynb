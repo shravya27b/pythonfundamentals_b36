{
 "cells": [
  {
   "cell_type": "code",
   "execution_count": null,
   "metadata": {},
   "outputs": [],
   "source": [
    "Continuation of lists:\n",
    "    "
   ]
  },
  {
   "cell_type": "code",
   "execution_count": 1,
   "metadata": {},
   "outputs": [],
   "source": [
    "students=[\"monika\",\"arvind\",\"suresh\",'navneetha','paras','sadeque','muskeen']"
   ]
  },
  {
   "cell_type": "code",
   "execution_count": 2,
   "metadata": {},
   "outputs": [
    {
     "name": "stdout",
     "output_type": "stream",
     "text": [
      "['monika', 'arvind', 'suresh', 'navneetha', 'paras', 'sadeque', 'muskeen']\n"
     ]
    }
   ],
   "source": [
    "print(students)"
   ]
  },
  {
   "cell_type": "code",
   "execution_count": null,
   "metadata": {},
   "outputs": [],
   "source": [
    "#req:if i want to appreciate the above participants.....?"
   ]
  },
  {
   "cell_type": "code",
   "execution_count": 3,
   "metadata": {},
   "outputs": [
    {
     "name": "stdout",
     "output_type": "stream",
     "text": [
      "keep up the good work,Monika\n"
     ]
    }
   ],
   "source": [
    "print(f\"keep up the good work,{students[0].title()}\")"
   ]
  },
  {
   "cell_type": "code",
   "execution_count": 4,
   "metadata": {},
   "outputs": [
    {
     "name": "stdout",
     "output_type": "stream",
     "text": [
      "keep up the good work,Arvind\n"
     ]
    }
   ],
   "source": [
    "print(f\"keep up the good work,{students[1].title()}\")"
   ]
  },
  {
   "cell_type": "code",
   "execution_count": null,
   "metadata": {},
   "outputs": [],
   "source": [
    "Introduction to for loops:"
   ]
  },
  {
   "cell_type": "code",
   "execution_count": null,
   "metadata": {},
   "outputs": [],
   "source": [
    "#general syntax of for loop\n",
    "for tempvar in mainvar:\n",
    "    print(tempvar)\n",
    "   \n",
    "#tempvar------> it can ve anyname you define\n",
    "#mainvar----->is the variable that you declared above the for loop ..... which has the actual data"
   ]
  },
  {
   "cell_type": "code",
   "execution_count": 6,
   "metadata": {},
   "outputs": [
    {
     "name": "stdout",
     "output_type": "stream",
     "text": [
      "keep up the goodwork,Monika\n",
      "keep up the goodwork,Arvind\n",
      "keep up the goodwork,Suresh\n",
      "keep up the goodwork,Navneetha\n",
      "keep up the goodwork,Paras\n",
      "keep up the goodwork,Sadeque\n",
      "keep up the goodwork,Muskeen\n"
     ]
    }
   ],
   "source": [
    "for x in students:\n",
    "    print(f\"keep up the goodwork,{x.title()}\")"
   ]
  },
  {
   "cell_type": "code",
   "execution_count": null,
   "metadata": {},
   "outputs": [],
   "source": [
    "#enhancement of the code......!\n"
   ]
  },
  {
   "cell_type": "code",
   "execution_count": 7,
   "metadata": {},
   "outputs": [
    {
     "name": "stdout",
     "output_type": "stream",
     "text": [
      "keep up the goodwork,Monika\n",
      "looking forward to receive the github urls of today,Monika\n",
      "keep up the goodwork,Arvind\n",
      "looking forward to receive the github urls of today,Arvind\n",
      "keep up the goodwork,Suresh\n",
      "looking forward to receive the github urls of today,Suresh\n",
      "keep up the goodwork,Navneetha\n",
      "looking forward to receive the github urls of today,Navneetha\n",
      "keep up the goodwork,Paras\n",
      "looking forward to receive the github urls of today,Paras\n",
      "keep up the goodwork,Sadeque\n",
      "looking forward to receive the github urls of today,Sadeque\n",
      "keep up the goodwork,Muskeen\n",
      "looking forward to receive the github urls of today,Muskeen\n"
     ]
    }
   ],
   "source": [
    "for x in students:\n",
    "    print(f\"keep up the goodwork,{x.title()}\")\n",
    "    print(f\"looking forward to receive the github urls of today,{x.title()}\")\n",
    "    "
   ]
  },
  {
   "cell_type": "code",
   "execution_count": null,
   "metadata": {},
   "outputs": [],
   "source": [
    "#for further enhancement of the code.....!"
   ]
  },
  {
   "cell_type": "code",
   "execution_count": 8,
   "metadata": {},
   "outputs": [
    {
     "name": "stdout",
     "output_type": "stream",
     "text": [
      "keep up the goodwork,Monika\n",
      "looking forward to receive the github urls of today,Monika\n",
      "\n",
      "keep up the goodwork,Arvind\n",
      "looking forward to receive the github urls of today,Arvind\n",
      "\n",
      "keep up the goodwork,Suresh\n",
      "looking forward to receive the github urls of today,Suresh\n",
      "\n",
      "keep up the goodwork,Navneetha\n",
      "looking forward to receive the github urls of today,Navneetha\n",
      "\n",
      "keep up the goodwork,Paras\n",
      "looking forward to receive the github urls of today,Paras\n",
      "\n",
      "keep up the goodwork,Sadeque\n",
      "looking forward to receive the github urls of today,Sadeque\n",
      "\n",
      "keep up the goodwork,Muskeen\n",
      "looking forward to receive the github urls of today,Muskeen\n",
      "\n"
     ]
    }
   ],
   "source": [
    "for x in students:\n",
    "    print(f\"keep up the goodwork,{x.title()}\")\n",
    "    print(f\"looking forward to receive the github urls of today,{x.title()}\\n\")   "
   ]
  },
  {
   "cell_type": "code",
   "execution_count": null,
   "metadata": {},
   "outputs": [],
   "source": [
    "#writing out of the loop\n"
   ]
  },
  {
   "cell_type": "code",
   "execution_count": 9,
   "metadata": {},
   "outputs": [
    {
     "name": "stdout",
     "output_type": "stream",
     "text": [
      "keep up the goodwork ,Monika\n",
      "looking forward to recieve the github urls of today,Monika\n",
      "\n",
      "keep up the goodwork ,Arvind\n",
      "looking forward to recieve the github urls of today,Arvind\n",
      "\n",
      "keep up the goodwork ,Suresh\n",
      "looking forward to recieve the github urls of today,Suresh\n",
      "\n",
      "keep up the goodwork ,Navneetha\n",
      "looking forward to recieve the github urls of today,Navneetha\n",
      "\n",
      "keep up the goodwork ,Paras\n",
      "looking forward to recieve the github urls of today,Paras\n",
      "\n",
      "keep up the goodwork ,Sadeque\n",
      "looking forward to recieve the github urls of today,Sadeque\n",
      "\n",
      "keep up the goodwork ,Muskeen\n",
      "looking forward to recieve the github urls of today,Muskeen\n",
      "\n",
      "thank you all for showing interest in learning python\n"
     ]
    }
   ],
   "source": [
    "for x in students:\n",
    "    print(f\"keep up the goodwork ,{x.title()}\")\n",
    "    print(f\"looking forward to recieve the github urls of today,{x.title()}\\n\")\n",
    "print(\"thank you all for showing interest in learning python\")    "
   ]
  },
  {
   "cell_type": "code",
   "execution_count": null,
   "metadata": {},
   "outputs": [],
   "source": []
  },
  {
   "cell_type": "code",
   "execution_count": null,
   "metadata": {},
   "outputs": [],
   "source": []
  },
  {
   "cell_type": "code",
   "execution_count": null,
   "metadata": {},
   "outputs": [],
   "source": []
  },
  {
   "cell_type": "code",
   "execution_count": null,
   "metadata": {},
   "outputs": [],
   "source": []
  },
  {
   "cell_type": "code",
   "execution_count": null,
   "metadata": {},
   "outputs": [],
   "source": []
  },
  {
   "cell_type": "code",
   "execution_count": null,
   "metadata": {},
   "outputs": [],
   "source": []
  },
  {
   "cell_type": "code",
   "execution_count": null,
   "metadata": {},
   "outputs": [],
   "source": []
  },
  {
   "cell_type": "code",
   "execution_count": null,
   "metadata": {},
   "outputs": [],
   "source": []
  },
  {
   "cell_type": "code",
   "execution_count": null,
   "metadata": {},
   "outputs": [],
   "source": []
  },
  {
   "cell_type": "code",
   "execution_count": null,
   "metadata": {},
   "outputs": [],
   "source": []
  },
  {
   "cell_type": "code",
   "execution_count": null,
   "metadata": {},
   "outputs": [],
   "source": []
  },
  {
   "cell_type": "code",
   "execution_count": null,
   "metadata": {},
   "outputs": [],
   "source": []
  },
  {
   "cell_type": "code",
   "execution_count": null,
   "metadata": {},
   "outputs": [],
   "source": []
  },
  {
   "cell_type": "code",
   "execution_count": null,
   "metadata": {},
   "outputs": [],
   "source": []
  },
  {
   "cell_type": "code",
   "execution_count": null,
   "metadata": {},
   "outputs": [],
   "source": []
  },
  {
   "cell_type": "code",
   "execution_count": null,
   "metadata": {},
   "outputs": [],
   "source": []
  },
  {
   "cell_type": "code",
   "execution_count": null,
   "metadata": {},
   "outputs": [],
   "source": []
  },
  {
   "cell_type": "code",
   "execution_count": null,
   "metadata": {},
   "outputs": [],
   "source": []
  },
  {
   "cell_type": "code",
   "execution_count": null,
   "metadata": {},
   "outputs": [],
   "source": []
  },
  {
   "cell_type": "code",
   "execution_count": null,
   "metadata": {},
   "outputs": [],
   "source": []
  },
  {
   "cell_type": "code",
   "execution_count": null,
   "metadata": {},
   "outputs": [],
   "source": []
  },
  {
   "cell_type": "code",
   "execution_count": null,
   "metadata": {},
   "outputs": [],
   "source": []
  },
  {
   "cell_type": "code",
   "execution_count": null,
   "metadata": {},
   "outputs": [],
   "source": []
  },
  {
   "cell_type": "code",
   "execution_count": null,
   "metadata": {},
   "outputs": [],
   "source": []
  },
  {
   "cell_type": "code",
   "execution_count": null,
   "metadata": {},
   "outputs": [],
   "source": []
  }
 ],
 "metadata": {
  "kernelspec": {
   "display_name": "Python 3",
   "language": "python",
   "name": "python3"
  },
  "language_info": {
   "codemirror_mode": {
    "name": "ipython",
    "version": 3
   },
   "file_extension": ".py",
   "mimetype": "text/x-python",
   "name": "python",
   "nbconvert_exporter": "python",
   "pygments_lexer": "ipython3",
   "version": "3.8.5"
  }
 },
 "nbformat": 4,
 "nbformat_minor": 4
}
